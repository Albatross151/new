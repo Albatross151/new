{
 "cells": [
  {
   "cell_type": "markdown",
   "id": "44ded4d0-23a5-4346-84a6-153db059351f",
   "metadata": {
    "tags": []
   },
   "source": [
    "# Heading 1 Data Science Tools and Ecosystem"
   ]
  },
  {
   "cell_type": "markdown",
   "id": "0f1119ec-85c2-4c6d-82f1-589914860d3b",
   "metadata": {},
   "source": [
    "In this notebook, Data Science Tools and Ecosystem are summarized."
   ]
  },
  {
   "cell_type": "markdown",
   "id": "0c5b9937-74cd-42b4-b11f-a39bfa9ab8b2",
   "metadata": {},
   "source": [
    "Some of the popular languages that Data Scientists use are:\n",
    "\n",
    "    1. Python\n",
    "    2. R\n",
    "    3. C++"
   ]
  },
  {
   "cell_type": "markdown",
   "id": "8d11c6d2-5a84-40f7-8244-bdec308fb090",
   "metadata": {},
   "source": [
    "Some of the commonly used libraries used by Data Scientists include:\n",
    "    \n",
    "    1. dplyr - Data Manipulation\n",
    "    2. caret - Machine Learning \n",
    "    3. TensorFlow - Deep Learning"
   ]
  },
  {
   "cell_type": "markdown",
   "id": "97b2727f-d80e-4150-9e66-d76cddbb0d24",
   "metadata": {},
   "source": [
    "|Data Science Tools|\n",
    "|------------------|\n",
    "|Jupyter Notebooks |\n",
    "|R Studio          |\n",
    "|Anaconda          |\n",
    "\n"
   ]
  },
  {
   "cell_type": "markdown",
   "id": "df39682b-ee2a-4d46-9b3e-dbadd52f4351",
   "metadata": {},
   "source": [
    "Below are a few examples of evaluating arithmetic expressions in Python"
   ]
  },
  {
   "cell_type": "code",
   "execution_count": 1,
   "id": "d86df580-c0b8-4052-b640-974983416d70",
   "metadata": {
    "tags": []
   },
   "outputs": [
    {
     "data": {
      "text/plain": [
       "17"
      ]
     },
     "execution_count": 1,
     "metadata": {},
     "output_type": "execute_result"
    }
   ],
   "source": [
    "#This is a simple arithmetic expression to multiply then add integers\n",
    "\n",
    "(3*4)+5"
   ]
  },
  {
   "cell_type": "code",
   "execution_count": 2,
   "id": "c5096088-45dd-4bd9-8d68-e14a50a650fc",
   "metadata": {
    "tags": []
   },
   "outputs": [
    {
     "data": {
      "text/plain": [
       "3.3333333333333335"
      ]
     },
     "execution_count": 2,
     "metadata": {},
     "output_type": "execute_result"
    }
   ],
   "source": [
    "#This will convert 200 minutes to hours by dividing by 60\n",
    "\n",
    "200/60"
   ]
  },
  {
   "cell_type": "markdown",
   "id": "957d9ca9-e90c-4b22-97e5-7384d9af66fc",
   "metadata": {},
   "source": [
    "**Objectives:**\n",
    "    \n",
    "- List popular languages for Data Science\n",
    "- List commonly used libraries for Data Science\n",
    "- List tools used in Data Science"
   ]
  },
  {
   "cell_type": "markdown",
   "id": "7ebcf51b-634f-4996-b96d-99d2984fc28c",
   "metadata": {
    "tags": []
   },
   "source": [
    "## Heading 2 Author\n",
    "\n",
    "Alex Perret "
   ]
  }
 ],
 "metadata": {
  "kernelspec": {
   "display_name": "Python",
   "language": "python",
   "name": "conda-env-python-py"
  },
  "language_info": {
   "codemirror_mode": {
    "name": "ipython",
    "version": 3
   },
   "file_extension": ".py",
   "mimetype": "text/x-python",
   "name": "python",
   "nbconvert_exporter": "python",
   "pygments_lexer": "ipython3",
   "version": "3.7.12"
  }
 },
 "nbformat": 4,
 "nbformat_minor": 5
}
